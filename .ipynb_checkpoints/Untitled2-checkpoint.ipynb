{
 "cells": [
  {
   "cell_type": "code",
   "execution_count": 1,
   "metadata": {},
   "outputs": [
    {
     "name": "stdout",
     "output_type": "stream",
     "text": [
      "enter yes or no :    yes\n",
      "hello\n"
     ]
    }
   ],
   "source": [
    "i=\"\".join(input(\"enter yes or no :    \").split()).lower()\n",
    "\n",
    "if i == 'yes':\n",
    "    print(\"hello\")\n",
    "else:\n",
    "    print(\"bhag jaa yaha se\")\n",
    "\n",
    "    "
   ]
  },
  {
   "cell_type": "code",
   "execution_count": 5,
   "metadata": {},
   "outputs": [
    {
     "name": "stdout",
     "output_type": "stream",
     "text": [
      "Enter a number x : 3\n",
      "Enter a number y : 8\n",
      "Enter a number z:  1\n",
      "8\n"
     ]
    }
   ],
   "source": [
    "x=int(input(\"Enter a number x : \"))\n",
    "y=int(input(\"Enter a number y : \"))\n",
    "z=int(input(\"Enter a number z:  \"))\n",
    "\n",
    "if x>y and x>z :\n",
    "    print(x)\n",
    "else :\n",
    "    if y>x and y>z :\n",
    "        print(y)\n",
    "    else :\n",
    "        print(z)"
   ]
  },
  {
   "cell_type": "code",
   "execution_count": 9,
   "metadata": {},
   "outputs": [
    {
     "name": "stdout",
     "output_type": "stream",
     "text": [
      "Enter a number x : 4\n",
      "Enter a number y : 6\n",
      "Enter a number z:  7\n",
      "6\n"
     ]
    }
   ],
   "source": [
    "x=int(input(\"Enter a number x : \"))\n",
    "y=int(input(\"Enter a number y : \"))\n",
    "z=int(input(\"Enter a number z:  \"))\n",
    "\n",
    "if x>y :\n",
    "    if x>z:\n",
    "        print(x)\n",
    "    else : \n",
    "        print(z)\n",
    "else : \n",
    "    print(y)\n",
    "    "
   ]
  },
  {
   "cell_type": "code",
   "execution_count": 7,
   "metadata": {},
   "outputs": [
    {
     "name": "stdout",
     "output_type": "stream",
     "text": [
      "x,y,z : 1,2,3\n"
     ]
    }
   ],
   "source": [
    "x,y,z=map(int,input(\"x,y,z : \").split(\",\"))"
   ]
  },
  {
   "cell_type": "code",
   "execution_count": 27,
   "metadata": {},
   "outputs": [
    {
     "name": "stdout",
     "output_type": "stream",
     "text": [
      "enter job type : goverment,private,business  : governmenT\n",
      "Enter your salary : 70000\n",
      "welcome to our bank \n"
     ]
    }
   ],
   "source": [
    "## bank loan approval\n",
    "i =\"\".join(input(\"enter job type : goverment,private,business  : \").split()).lower()\n",
    "if i == 'private':\n",
    "                    print(\"gate udhar hai\")\n",
    "elif i=='government':\n",
    "        j=int(input(\"Enter your salary : \"))\n",
    "        \n",
    "        if j< 40000 :\n",
    "            print(\"we will provide you less amount loan\")\n",
    "            \n",
    "        else:\n",
    "            print(\"welcome to our bank \")\n",
    "elif  i=='business':\n",
    "        k=int(input(\"Enter your turnover : \"))\n",
    "        if k > 500000:\n",
    "            print(\"loan approved\")\n",
    "        else :\n",
    "            print(\"not eligible\")\n",
    "else:\n",
    "    print(\"bhag\")"
   ]
  },
  {
   "cell_type": "code",
   "execution_count": 2,
   "metadata": {},
   "outputs": [],
   "source": [
    "from getpass import getpass\n",
    "from time import sleep\n",
    "from random import randint"
   ]
  },
  {
   "cell_type": "code",
   "execution_count": null,
   "metadata": {},
   "outputs": [
    {
     "name": "stdout",
     "output_type": "stream",
     "text": [
      "player 1 choice : ········\n"
     ]
    }
   ],
   "source": [
    "a = getpass(\"player 1 choice : \")\n",
    "b = getpass(\"player 2 choice : \")\n",
    "\n",
    "p1_win=((\"rock\",\"scissor\"),(\"paper\",\"rock\"),(\"scissor\",\"paper\"))\n",
    "\n",
    "if (a,b) in p1_win:\n",
    "    print(\"player 1 win\")\n",
    "elif a==b :\n",
    "    print(\"match tie\")\n",
    "else :\n",
    "    print(\"player 2 win\")"
   ]
  },
  {
   "cell_type": "code",
   "execution_count": 3,
   "metadata": {},
   "outputs": [],
   "source": [
    "from random import choice"
   ]
  },
  {
   "cell_type": "code",
   "execution_count": 6,
   "metadata": {},
   "outputs": [
    {
     "data": {
      "text/plain": [
       "'scissor'"
      ]
     },
     "execution_count": 6,
     "metadata": {},
     "output_type": "execute_result"
    }
   ],
   "source": [
    "choices = [\"rock\",\"paper\",\"scissor\"]\n",
    "choice(choices)"
   ]
  },
  {
   "cell_type": "code",
   "execution_count": null,
   "metadata": {},
   "outputs": [],
   "source": []
  }
 ],
 "metadata": {
  "kernelspec": {
   "display_name": "Python 3",
   "language": "python",
   "name": "python3"
  },
  "language_info": {
   "codemirror_mode": {
    "name": "ipython",
    "version": 3
   },
   "file_extension": ".py",
   "mimetype": "text/x-python",
   "name": "python",
   "nbconvert_exporter": "python",
   "pygments_lexer": "ipython3",
   "version": "3.7.3"
  }
 },
 "nbformat": 4,
 "nbformat_minor": 2
}
