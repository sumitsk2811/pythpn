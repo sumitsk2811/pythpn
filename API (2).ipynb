{
 "cells": [
  {
   "cell_type": "markdown",
   "metadata": {},
   "source": [
    "## Data Collection "
   ]
  },
  {
   "cell_type": "markdown",
   "metadata": {},
   "source": [
    "#### well known data sources \n",
    "    kaggle \n",
    "    uci machine learning\n",
    "    government sites\n",
    "    "
   ]
  },
  {
   "cell_type": "markdown",
   "metadata": {},
   "source": [
    "#### most used in live environments"
   ]
  },
  {
   "cell_type": "markdown",
   "metadata": {},
   "source": [
    "    using apis \n",
    "    web scraping "
   ]
  },
  {
   "cell_type": "markdown",
   "metadata": {},
   "source": [
    "### What is an API ? "
   ]
  },
  {
   "cell_type": "code",
   "execution_count": 3,
   "metadata": {},
   "outputs": [],
   "source": [
    "import requests"
   ]
  },
  {
   "cell_type": "code",
   "execution_count": 21,
   "metadata": {},
   "outputs": [
    {
     "name": "stdout",
     "output_type": "stream",
     "text": [
      "Enter your query : name,gender,birthday\n",
      "name = Yadvendra Singh\n",
      "gender = male\n",
      "birthday = 05/25/1996\n",
      "id = 1271651246327801\n"
     ]
    }
   ],
   "source": [
    "token = \"EAAhl5P8adT0BABTux6L0add9HvExm04RwTRd6ERroxyjxtV451RmxPtIE7jYM5UpmvZAbR4YPot0CdxmCNb2e2To0iY0mcx47CX0A4XV3HOOsRiL7vOo6LJnhkvxyZCP5AutKgtwggkxwSpWqCyFORJUxYzNojkY32PopNnUMAFA98x0yrK8wELncIwkYPGAzh9mV2DAZDZD\"\n",
    "query = input(\"Enter your query : \")\n",
    "url = f\"https://graph.facebook.com/v3.3/me?fields={query}&access_token={token}\"\n",
    "page = requests.get(url)\n",
    "if page.status_code == 200 :\n",
    "    data = page.json()\n",
    "    for key,value in data.items():\n",
    "        print(f\"{key} = {value}\")\n",
    "else :\n",
    "    print(\"Something Went Wrong\")"
   ]
  },
  {
   "cell_type": "code",
   "execution_count": 13,
   "metadata": {},
   "outputs": [
    {
     "data": {
      "text/plain": [
       "200"
      ]
     },
     "execution_count": 13,
     "metadata": {},
     "output_type": "execute_result"
    }
   ],
   "source": [
    "page.status_code"
   ]
  },
  {
   "cell_type": "code",
   "execution_count": 14,
   "metadata": {},
   "outputs": [
    {
     "data": {
      "text/plain": [
       "b'{\"name\":\"Yadvendra Singh\",\"birthday\":\"05\\\\/25\\\\/1996\",\"email\":\"yadvendra121\\\\u0040gmail.com\",\"id\":\"1271651246327801\"}'"
      ]
     },
     "execution_count": 14,
     "metadata": {},
     "output_type": "execute_result"
    }
   ],
   "source": [
    "page.content"
   ]
  },
  {
   "cell_type": "code",
   "execution_count": 15,
   "metadata": {},
   "outputs": [
    {
     "data": {
      "text/plain": [
       "'{\"name\":\"Yadvendra Singh\",\"birthday\":\"05\\\\/25\\\\/1996\",\"email\":\"yadvendra121\\\\u0040gmail.com\",\"id\":\"1271651246327801\"}'"
      ]
     },
     "execution_count": 15,
     "metadata": {},
     "output_type": "execute_result"
    }
   ],
   "source": [
    "page.text"
   ]
  },
  {
   "cell_type": "code",
   "execution_count": 16,
   "metadata": {},
   "outputs": [],
   "source": [
    "data = page.json()\n",
    "for key,value in data.items():\n",
    "    print(f\"{key} = {value}\")"
   ]
  },
  {
   "cell_type": "code",
   "execution_count": 17,
   "metadata": {},
   "outputs": [
    {
     "data": {
      "text/plain": [
       "{'name': 'Yadvendra Singh',\n",
       " 'birthday': '05/25/1996',\n",
       " 'email': 'yadvendra121@gmail.com',\n",
       " 'id': '1271651246327801'}"
      ]
     },
     "execution_count": 17,
     "metadata": {},
     "output_type": "execute_result"
    }
   ],
   "source": [
    "data"
   ]
  },
  {
   "cell_type": "code",
   "execution_count": 18,
   "metadata": {},
   "outputs": [
    {
     "name": "stdout",
     "output_type": "stream",
     "text": [
      "name = Yadvendra Singh\n",
      "birthday = 05/25/1996\n",
      "email = yadvendra121@gmail.com\n",
      "id = 1271651246327801\n"
     ]
    }
   ],
   "source": [
    "for key,value in data.items():\n",
    "    print(f\"{key} = {value}\")"
   ]
  },
  {
   "cell_type": "code",
   "execution_count": null,
   "metadata": {},
   "outputs": [],
   "source": []
  }
 ],
 "metadata": {
  "kernelspec": {
   "display_name": "Python 3",
   "language": "python",
   "name": "python3"
  },
  "language_info": {
   "codemirror_mode": {
    "name": "ipython",
    "version": 3
   },
   "file_extension": ".py",
   "mimetype": "text/x-python",
   "name": "python",
   "nbconvert_exporter": "python",
   "pygments_lexer": "ipython3",
   "version": "3.7.3"
  }
 },
 "nbformat": 4,
 "nbformat_minor": 2
}
