{
 "cells": [
  {
   "cell_type": "code",
   "execution_count": 2,
   "metadata": {},
   "outputs": [
    {
     "name": "stdout",
     "output_type": "stream",
     "text": [
      "enter a number5\n",
      "5 * 1 =  5\n",
      "5 * 2 =  10\n",
      "5 * 3 =  15\n",
      "5 * 4 =  20\n",
      "5 * 5 =  25\n",
      "5 * 6 =  30\n",
      "5 * 7 =  35\n",
      "5 * 8 =  40\n",
      "5 * 9 =  45\n",
      "5 * 10 =  50\n"
     ]
    }
   ],
   "source": [
    "a = int(input(\"enter a number\"))\n",
    "c=1\n",
    "while c<=10 :\n",
    "    print(f\"{a} * {c} = \",a*c)\n",
    "    c = c+1\n",
    "    "
   ]
  },
  {
   "cell_type": "code",
   "execution_count": 12,
   "metadata": {},
   "outputs": [
    {
     "name": "stdout",
     "output_type": "stream",
     "text": [
      "enter a number6\n",
      "6     ^     1   =  6\n",
      "6     ^     2   =  36\n",
      "6     ^     3   =  216\n",
      "6     ^     4   =  1296\n",
      "6     ^     5   =  7776\n",
      "6     ^     6   =  46656\n",
      "6     ^     7   =  279936\n",
      "6     ^     8   =  1679616\n",
      "6     ^     9   =  10077696\n",
      "6     ^    10   =  60466176\n",
      "loop completed\n"
     ]
    }
   ],
   "source": [
    "a = int(input(\"enter a number\"))\n",
    "for c in range(1,11):\n",
    "    print(f\"{a:<5} ^ {c:>5}   = \",a**c)\n",
    "else:\n",
    "    print(\"c=1loop completed\")"
   ]
  },
  {
   "cell_type": "code",
   "execution_count": 14,
   "metadata": {},
   "outputs": [
    {
     "name": "stdout",
     "output_type": "stream",
     "text": [
      "hello\n"
     ]
    },
    {
     "data": {
      "text/plain": [
       "['hello']"
      ]
     },
     "execution_count": 14,
     "metadata": {},
     "output_type": "execute_result"
    }
   ],
   "source": [
    "input().strip().split()"
   ]
  },
  {
   "cell_type": "code",
   "execution_count": 18,
   "metadata": {},
   "outputs": [
    {
     "data": {
      "text/plain": [
       "False"
      ]
     },
     "execution_count": 18,
     "metadata": {},
     "output_type": "execute_result"
    }
   ],
   "source": [
    "bool(0%2)"
   ]
  },
  {
   "cell_type": "code",
   "execution_count": 16,
   "metadata": {},
   "outputs": [],
   "source": [
    "c=1\n",
    "while c<=10:\n",
    "    if c%3 :\n",
    "        break\n",
    "    print(c)"
   ]
  },
  {
   "cell_type": "code",
   "execution_count": 17,
   "metadata": {},
   "outputs": [
    {
     "data": {
      "text/plain": [
       "0"
      ]
     },
     "execution_count": 17,
     "metadata": {},
     "output_type": "execute_result"
    }
   ],
   "source": [
    "0%2\n"
   ]
  },
  {
   "cell_type": "code",
   "execution_count": 24,
   "metadata": {},
   "outputs": [
    {
     "name": "stdout",
     "output_type": "stream",
     "text": [
      "enter a number  :  8\n",
      "please enter it correctly think big\n",
      "enter a number  :  40\n",
      "please enter it correctly think small\n",
      "enter a number  :  20\n",
      "please enter it correctly think big\n",
      "enter a number  :  35\n",
      "please enter it correctly think small\n",
      "enter a number  :  30\n",
      "please enter it correctly think small\n",
      "you loss the game\n",
      "the input is : 21\n"
     ]
    }
   ],
   "source": [
    "from random import randint\n",
    "ch1 =randint(1,51)\n",
    "c=1\n",
    "while c<=5:\n",
    "    ch2=int(input(\"enter a number  :  \"))\n",
    "    if ch1==ch2:\n",
    "        print(\"you guess it correctly\")\n",
    "        break\n",
    "    elif ch1>ch2:\n",
    "        c=c+1\n",
    "        print(\"please enter it correctly think big\")\n",
    "        continue\n",
    "    elif ch1<ch2:\n",
    "        c=c+1\n",
    "        print(\"please enter it correctly think small\")\n",
    "        continue\n",
    "      \n",
    "        \n",
    "else :\n",
    "    print(\"you loss the game\")\n",
    "    print(\"the input is :\",ch1)\n",
    "    \n",
    "    "
   ]
  },
  {
   "cell_type": "code",
   "execution_count": null,
   "metadata": {},
   "outputs": [],
   "source": []
  }
 ],
 "metadata": {
  "kernelspec": {
   "display_name": "Python 3",
   "language": "python",
   "name": "python3"
  },
  "language_info": {
   "codemirror_mode": {
    "name": "ipython",
    "version": 3
   },
   "file_extension": ".py",
   "mimetype": "text/x-python",
   "name": "python",
   "nbconvert_exporter": "python",
   "pygments_lexer": "ipython3",
   "version": "3.7.3"
  }
 },
 "nbformat": 4,
 "nbformat_minor": 2
}
